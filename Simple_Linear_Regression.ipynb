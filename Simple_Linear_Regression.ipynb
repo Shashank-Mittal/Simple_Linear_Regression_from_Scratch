{
 "cells": [
  {
   "cell_type": "code",
   "execution_count": 113,
   "metadata": {},
   "outputs": [
    {
     "name": "stdout",
     "output_type": "stream",
     "text": [
      "<class 'pandas.core.frame.DataFrame'>\n",
      "Int64Index: 30 entries, 14 to 4\n",
      "Data columns (total 2 columns):\n",
      "YearsExperience    30 non-null float64\n",
      "Salary             30 non-null int64\n",
      "dtypes: float64(1), int64(1)\n",
      "memory usage: 720.0 bytes\n"
     ]
    }
   ],
   "source": [
    "import pandas as pd\n",
    "import numpy as np\n",
    "import matplotlib.pyplot as plt\n",
    "df=pd.read_csv(\"salary_data.csv\")\n",
    "df = df.sample(frac=1)\n",
    "df.info()"
   ]
  },
  {
   "cell_type": "markdown",
   "metadata": {},
   "source": [
    "## Feature Scalling"
   ]
  },
  {
   "cell_type": "code",
   "execution_count": 114,
   "metadata": {},
   "outputs": [],
   "source": [
    "# Min-Max Transform\n",
    "df[\"YearsExperience\"] = (df[\"YearsExperience\"] - min(df[\"YearsExperience\"])) / (max(df[\"YearsExperience\"]) - min(df[\"YearsExperience\"]))"
   ]
  },
  {
   "cell_type": "code",
   "execution_count": 115,
   "metadata": {},
   "outputs": [
    {
     "data": {
      "image/png": "[encoded data removed]",
      "text/plain": [
       "<matplotlib.figure.Figure at 0x234ea15a080>"
      ]
     },
     "metadata": {},
     "output_type": "display_data"
    }
   ],
   "source": [
    "X=np.array(df.iloc[:,:1])\n",
    "Y=np.array(df.iloc[:,1:])\n",
    "plt.scatter(X,Y)\n",
    "plt.xlabel(\"year of Experience\")\n",
    "plt.ylabel(\"Salary\")\n",
    "plt.show()"
   ]
  },
  {
   "cell_type": "markdown",
   "metadata": {},
   "source": [
    "# Split the dataset into two part"
   ]
  },
  {
   "cell_type": "code",
   "execution_count": 116,
   "metadata": {},
   "outputs": [],
   "source": [
    "#Training_sample has 50% of data and test_sample has 50% of data\n",
    "split_value=round((len(X)-(len(X)*0.50)))"
   ]
  },
  {
   "cell_type": "code",
   "execution_count": 117,
   "metadata": {},
   "outputs": [],
   "source": [
    "x_train=X[:split_value].copy()\n",
    "y_train=Y[:split_value].copy()\n",
    "x_test=X[split_value:].copy()\n",
    "y_test=Y[split_value:].copy()"
   ]
  },
  {
   "cell_type": "markdown",
   "metadata": {},
   "source": [
    "# Simple Linear Resgression Model from scratch"
   ]
  },
  {
   "cell_type": "code",
   "execution_count": 125,
   "metadata": {},
   "outputs": [],
   "source": [
    "# for the prediction we have to find a,b\n",
    "def gradient_descent(x_train,y_train):\n",
    "    m=len(x_train)\n",
    "    y=y_train[:].copy()\n",
    "    a=b=0  #where: a:slope; b:Intercept\n",
    "    iteration =3000\n",
    "    learning_rate=0.09\n",
    "    cost=[]\n",
    "    it=[]\n",
    "    for i in range(iteration):\n",
    "        y_predict = a*x_train+b   # hypothesis fn = ax+b\n",
    "        cost_Function=(1/(2*m))*(sum(value**2 for value in (y-y_predict)))\n",
    "        temp0= (1/m)*(sum((y_predict-y)*x_train)) #derivative for a\n",
    "        temp1= (1/m)*(sum(y_predict-y)) #derivative for b\n",
    "        a=a-learning_rate*(temp0)  #update a with learning rate\n",
    "        b=b-learning_rate*(temp1)  #update b with learning rate\n",
    "        #print(\"a {}, b{}, cost {}, itteration {}\".format(a,b,cost_Function,i))\n",
    "        if(i%10==0):\n",
    "            cost.append(cost_Function[0])\n",
    "            it.append(i)\n",
    "    cv=a,b,cost,it\n",
    "    return cv"
   ]
  },
  {
   "cell_type": "code",
   "execution_count": 126,
   "metadata": {},
   "outputs": [],
   "source": [
    "a=gradient_descent(x_train,y_train)\n",
    "new_y= (a[0][0]* x_test) + a[1][0]\n",
    "#new_y"
   ]
  },
  {
   "cell_type": "code",
   "execution_count": 127,
   "metadata": {},
   "outputs": [
    {
     "data": {
      "image/png": "[encoded data removed]",
      "text/plain": [
       "<matplotlib.figure.Figure at 0x234ea375358>"
      ]
     },
     "metadata": {},
     "output_type": "display_data"
    },
    {
     "data": {
      "text/plain": [
       "array([1.45187585e+09])"
      ]
     },
     "execution_count": 127,
     "metadata": {},
     "output_type": "execute_result"
    }
   ],
   "source": [
    "plt.scatter(x_test,y_test)\n",
    "plt.plot(x_test,new_y)\n",
    "plt.xlabel(\"Year of experience\")\n",
    "plt.ylabel(\"Salary\")\n",
    "plt.show()\n",
    "mse1=(sum(new_y-y_test)**2)\n",
    "mse1"
   ]
  },
  {
   "cell_type": "markdown",
   "metadata": {},
   "source": [
    "# Plot cost vs iteration"
   ]
  },
  {
   "cell_type": "code",
   "execution_count": 128,
   "metadata": {},
   "outputs": [
    {
     "data": {
      "image/png": "[encoded data removed]",
      "text/plain": [
       "<matplotlib.figure.Figure at 0x234ea3a8e80>"
      ]
     },
     "metadata": {},
     "output_type": "display_data"
    }
   ],
   "source": [
    "plt.plot(a[3],a[2])\n",
    "#plt.plot(x_test,new_y)\n",
    "plt.xlabel(\"iteration\")\n",
    "plt.ylabel(\"cost\")\n",
    "plt.show()"
   ]
  },
  {
   "cell_type": "markdown",
   "metadata": {},
   "source": [
    "# Comparision with Scikit-learn"
   ]
  },
  {
   "cell_type": "code",
   "execution_count": 129,
   "metadata": {},
   "outputs": [
    {
     "data": {
      "text/plain": [
       "array([1.45187589e+09])"
      ]
     },
     "execution_count": 129,
     "metadata": {},
     "output_type": "execute_result"
    }
   ],
   "source": [
    "from sklearn.linear_model import LinearRegression\n",
    "lreg=LinearRegression()\n",
    "lreg.fit(x_train,y_train)\n",
    "y_p=lreg.predict(x_test)\n",
    "mse2=(sum(y_p-y_test)**2)\n",
    "mse2"
   ]
  },
  {
   "cell_type": "markdown",
   "metadata": {},
   "source": [
    "# which one is best"
   ]
  },
  {
   "cell_type": "code",
   "execution_count": 130,
   "metadata": {},
   "outputs": [
    {
     "name": "stdout",
     "output_type": "stream",
     "text": [
      "Scratch is best\n"
     ]
    }
   ],
   "source": [
    "\n",
    "if(mse1[0]<mse2[0]):\n",
    "    print(\"Scratch is best\")\n",
    "else:\n",
    "    print(\"Sklearn is best\")"
   ]
  },
  {
   "cell_type": "code",
   "execution_count": null,
   "metadata": {},
   "outputs": [],
   "source": []
  }
 ],
 "metadata": {
  "kernelspec": {
   "display_name": "Python 3",
   "language": "python",
   "name": "python3"
  },
  "language_info": {
   "codemirror_mode": {
    "name": "ipython",
    "version": 3
   },
   "file_extension": ".py",
   "mimetype": "text/x-python",
   "name": "python",
   "nbconvert_exporter": "python",
   "pygments_lexer": "ipython3",
   "version": "3.6.4"
  }
 },
 "nbformat": 4,
 "nbformat_minor": 2
}
